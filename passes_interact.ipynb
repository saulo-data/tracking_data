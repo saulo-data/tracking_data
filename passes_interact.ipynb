{
 "cells": [
  {
   "cell_type": "markdown",
   "id": "de43ebe6-d3b7-4ead-897b-e37fdb3fb0d9",
   "metadata": {},
   "source": [
    "# Gráfico de Passes Interativo"
   ]
  },
  {
   "cell_type": "markdown",
   "id": "83db1930-86e7-47a8-a9b9-8aa2c37f85f1",
   "metadata": {},
   "source": [
    "## Importação das Bibliotecas"
   ]
  },
  {
   "cell_type": "code",
   "execution_count": 1,
   "id": "88b94eeb-71ce-4643-8aba-8a1c87189015",
   "metadata": {
    "tags": []
   },
   "outputs": [],
   "source": [
    "import pandas as pd\n",
    "import numpy as np\n",
    "from statsbombpy import sb\n",
    "from mplsoccer.pitch import Pitch\n",
    "import ipywidgets as widgets"
   ]
  },
  {
   "cell_type": "markdown",
   "id": "01af12a3-6306-4570-8b61-aa0064a3d596",
   "metadata": {},
   "source": [
    "## Seleção da Partida"
   ]
  },
  {
   "cell_type": "code",
   "execution_count": 2,
   "id": "514c6efd-15a4-4c25-b96d-9462d2460a94",
   "metadata": {
    "tags": []
   },
   "outputs": [],
   "source": [
    "events = sb.events(3773369)\n",
    "passes = events[events['type'] == 'Pass']"
   ]
  },
  {
   "cell_type": "code",
   "execution_count": 3,
   "id": "4d6c6cdc-39df-43de-94f5-1d5a95b63aaf",
   "metadata": {
    "tags": []
   },
   "outputs": [
    {
     "data": {
      "text/html": [
       "<div>\n",
       "<style scoped>\n",
       "    .dataframe tbody tr th:only-of-type {\n",
       "        vertical-align: middle;\n",
       "    }\n",
       "\n",
       "    .dataframe tbody tr th {\n",
       "        vertical-align: top;\n",
       "    }\n",
       "\n",
       "    .dataframe thead th {\n",
       "        text-align: right;\n",
       "    }\n",
       "</style>\n",
       "<table border=\"1\" class=\"dataframe\">\n",
       "  <thead>\n",
       "    <tr style=\"text-align: right;\">\n",
       "      <th></th>\n",
       "      <th>ball_receipt_outcome</th>\n",
       "      <th>ball_recovery_recovery_failure</th>\n",
       "      <th>block_deflection</th>\n",
       "      <th>block_offensive</th>\n",
       "      <th>carry_end_location</th>\n",
       "      <th>clearance_aerial_won</th>\n",
       "      <th>clearance_body_part</th>\n",
       "      <th>clearance_head</th>\n",
       "      <th>clearance_left_foot</th>\n",
       "      <th>clearance_other</th>\n",
       "      <th>...</th>\n",
       "      <th>shot_statsbomb_xg</th>\n",
       "      <th>shot_technique</th>\n",
       "      <th>shot_type</th>\n",
       "      <th>substitution_outcome</th>\n",
       "      <th>substitution_replacement</th>\n",
       "      <th>tactics</th>\n",
       "      <th>team</th>\n",
       "      <th>timestamp</th>\n",
       "      <th>type</th>\n",
       "      <th>under_pressure</th>\n",
       "    </tr>\n",
       "  </thead>\n",
       "  <tbody>\n",
       "    <tr>\n",
       "      <th>170</th>\n",
       "      <td>NaN</td>\n",
       "      <td>NaN</td>\n",
       "      <td>NaN</td>\n",
       "      <td>NaN</td>\n",
       "      <td>NaN</td>\n",
       "      <td>NaN</td>\n",
       "      <td>NaN</td>\n",
       "      <td>NaN</td>\n",
       "      <td>NaN</td>\n",
       "      <td>NaN</td>\n",
       "      <td>...</td>\n",
       "      <td>NaN</td>\n",
       "      <td>NaN</td>\n",
       "      <td>NaN</td>\n",
       "      <td>NaN</td>\n",
       "      <td>NaN</td>\n",
       "      <td>NaN</td>\n",
       "      <td>Barcelona</td>\n",
       "      <td>00:10:05.960</td>\n",
       "      <td>Pass</td>\n",
       "      <td>NaN</td>\n",
       "    </tr>\n",
       "  </tbody>\n",
       "</table>\n",
       "<p>1 rows × 89 columns</p>\n",
       "</div>"
      ],
      "text/plain": [
       "    ball_receipt_outcome ball_recovery_recovery_failure block_deflection  \\\n",
       "170                  NaN                            NaN              NaN   \n",
       "\n",
       "    block_offensive carry_end_location clearance_aerial_won  \\\n",
       "170             NaN                NaN                  NaN   \n",
       "\n",
       "    clearance_body_part clearance_head clearance_left_foot clearance_other  \\\n",
       "170                 NaN            NaN                 NaN             NaN   \n",
       "\n",
       "     ... shot_statsbomb_xg shot_technique shot_type substitution_outcome  \\\n",
       "170  ...               NaN            NaN       NaN                  NaN   \n",
       "\n",
       "    substitution_replacement tactics       team     timestamp  type  \\\n",
       "170                      NaN     NaN  Barcelona  00:10:05.960  Pass   \n",
       "\n",
       "    under_pressure  \n",
       "170            NaN  \n",
       "\n",
       "[1 rows x 89 columns]"
      ]
     },
     "execution_count": 3,
     "metadata": {},
     "output_type": "execute_result"
    }
   ],
   "source": [
    "passes.sample()"
   ]
  },
  {
   "cell_type": "code",
   "execution_count": 4,
   "id": "cea6cb94-d297-4b9f-b0ef-6207d6cafc90",
   "metadata": {},
   "outputs": [
    {
     "name": "stdout",
     "output_type": "stream",
     "text": [
      "<class 'pandas.core.frame.DataFrame'>\n",
      "Int64Index: 1357 entries, 6 to 1362\n",
      "Data columns (total 89 columns):\n",
      " #   Column                          Non-Null Count  Dtype  \n",
      "---  ------                          --------------  -----  \n",
      " 0   ball_receipt_outcome            0 non-null      object \n",
      " 1   ball_recovery_recovery_failure  0 non-null      object \n",
      " 2   block_deflection                0 non-null      object \n",
      " 3   block_offensive                 0 non-null      object \n",
      " 4   carry_end_location              0 non-null      object \n",
      " 5   clearance_aerial_won            0 non-null      object \n",
      " 6   clearance_body_part             0 non-null      object \n",
      " 7   clearance_head                  0 non-null      object \n",
      " 8   clearance_left_foot             0 non-null      object \n",
      " 9   clearance_other                 0 non-null      object \n",
      " 10  clearance_right_foot            0 non-null      object \n",
      " 11  counterpress                    5 non-null      object \n",
      " 12  dribble_nutmeg                  0 non-null      object \n",
      " 13  dribble_outcome                 0 non-null      object \n",
      " 14  dribble_overrun                 0 non-null      object \n",
      " 15  duel_outcome                    0 non-null      object \n",
      " 16  duel_type                       0 non-null      object \n",
      " 17  duration                        1357 non-null   float64\n",
      " 18  foul_committed_advantage        0 non-null      object \n",
      " 19  foul_committed_card             0 non-null      object \n",
      " 20  foul_committed_penalty          0 non-null      object \n",
      " 21  foul_won_advantage              0 non-null      object \n",
      " 22  foul_won_defensive              0 non-null      object \n",
      " 23  foul_won_penalty                0 non-null      object \n",
      " 24  goalkeeper_body_part            0 non-null      object \n",
      " 25  goalkeeper_end_location         0 non-null      object \n",
      " 26  goalkeeper_outcome              0 non-null      object \n",
      " 27  goalkeeper_position             0 non-null      object \n",
      " 28  goalkeeper_technique            0 non-null      object \n",
      " 29  goalkeeper_type                 0 non-null      object \n",
      " 30  id                              1357 non-null   object \n",
      " 31  index                           1357 non-null   int64  \n",
      " 32  interception_outcome            0 non-null      object \n",
      " 33  location                        1357 non-null   object \n",
      " 34  match_id                        1357 non-null   int64  \n",
      " 35  minute                          1357 non-null   int64  \n",
      " 36  miscontrol_aerial_won           0 non-null      object \n",
      " 37  off_camera                      51 non-null     object \n",
      " 38  out                             0 non-null      object \n",
      " 39  pass_aerial_won                 6 non-null      object \n",
      " 40  pass_angle                      1357 non-null   float64\n",
      " 41  pass_assisted_shot_id           15 non-null     object \n",
      " 42  pass_body_part                  1325 non-null   object \n",
      " 43  pass_cross                      19 non-null     object \n",
      " 44  pass_end_location               1357 non-null   object \n",
      " 45  pass_goal_assist                4 non-null      object \n",
      " 46  pass_height                     1357 non-null   object \n",
      " 47  pass_inswinging                 1 non-null      object \n",
      " 48  pass_length                     1357 non-null   float64\n",
      " 49  pass_miscommunication           1 non-null      object \n",
      " 50  pass_no_touch                   1 non-null      object \n",
      " 51  pass_outcome                    140 non-null    object \n",
      " 52  pass_outswinging                3 non-null      object \n",
      " 53  pass_recipient                  1335 non-null   object \n",
      " 54  pass_shot_assist                11 non-null     object \n",
      " 55  pass_straight                   2 non-null      object \n",
      " 56  pass_switch                     29 non-null     object \n",
      " 57  pass_technique                  13 non-null     object \n",
      " 58  pass_through_ball               7 non-null      object \n",
      " 59  pass_type                       142 non-null    object \n",
      " 60  period                          1357 non-null   int64  \n",
      " 61  play_pattern                    1357 non-null   object \n",
      " 62  player                          1357 non-null   object \n",
      " 63  player_id                       1357 non-null   float64\n",
      " 64  position                        1357 non-null   object \n",
      " 65  possession                      1357 non-null   int64  \n",
      " 66  possession_team                 1357 non-null   object \n",
      " 67  possession_team_id              1357 non-null   int64  \n",
      " 68  related_events                  1354 non-null   object \n",
      " 69  second                          1357 non-null   int64  \n",
      " 70  shot_aerial_won                 0 non-null      object \n",
      " 71  shot_body_part                  0 non-null      object \n",
      " 72  shot_deflected                  0 non-null      object \n",
      " 73  shot_end_location               0 non-null      object \n",
      " 74  shot_freeze_frame               0 non-null      object \n",
      " 75  shot_key_pass_id                0 non-null      object \n",
      " 76  shot_one_on_one                 0 non-null      object \n",
      " 77  shot_open_goal                  0 non-null      object \n",
      " 78  shot_outcome                    0 non-null      object \n",
      " 79  shot_statsbomb_xg               0 non-null      float64\n",
      " 80  shot_technique                  0 non-null      object \n",
      " 81  shot_type                       0 non-null      object \n",
      " 82  substitution_outcome            0 non-null      object \n",
      " 83  substitution_replacement        0 non-null      object \n",
      " 84  tactics                         0 non-null      object \n",
      " 85  team                            1357 non-null   object \n",
      " 86  timestamp                       1357 non-null   object \n",
      " 87  type                            1357 non-null   object \n",
      " 88  under_pressure                  280 non-null    object \n",
      "dtypes: float64(5), int64(7), object(77)\n",
      "memory usage: 954.1+ KB\n"
     ]
    }
   ],
   "source": [
    "passes.info()"
   ]
  },
  {
   "cell_type": "markdown",
   "id": "744ef90e-8543-42fa-b12c-862cec739c00",
   "metadata": {},
   "source": [
    "## Preparação dos Dados"
   ]
  },
  {
   "cell_type": "code",
   "execution_count": 5,
   "id": "c0c11477-9d78-46db-a83e-0bb2d70be15b",
   "metadata": {},
   "outputs": [],
   "source": [
    "x = [x[0] for x in passes['location']]\n",
    "y = [y[1] for y in passes['location']]\n",
    "end_x = [x[0] for x in passes['pass_end_location']]\n",
    "end_y = [y[1] for y in passes['pass_end_location']]\n",
    "passes = passes.assign(x=x, y=y, end_x=end_x, end_y=end_y)"
   ]
  },
  {
   "cell_type": "markdown",
   "id": "43c0c142-7323-4cb6-abcc-fe08c6b10ec5",
   "metadata": {},
   "source": [
    "### Importação da Tabela de xT"
   ]
  },
  {
   "cell_type": "code",
   "execution_count": 6,
   "id": "c5a9d6c9-268e-41d5-8a86-0ebaa41b81dc",
   "metadata": {},
   "outputs": [
    {
     "data": {
      "text/html": [
       "<div>\n",
       "<style scoped>\n",
       "    .dataframe tbody tr th:only-of-type {\n",
       "        vertical-align: middle;\n",
       "    }\n",
       "\n",
       "    .dataframe tbody tr th {\n",
       "        vertical-align: top;\n",
       "    }\n",
       "\n",
       "    .dataframe thead th {\n",
       "        text-align: right;\n",
       "    }\n",
       "</style>\n",
       "<table border=\"1\" class=\"dataframe\">\n",
       "  <thead>\n",
       "    <tr style=\"text-align: right;\">\n",
       "      <th></th>\n",
       "      <th>0</th>\n",
       "      <th>1</th>\n",
       "      <th>2</th>\n",
       "      <th>3</th>\n",
       "      <th>4</th>\n",
       "      <th>5</th>\n",
       "      <th>6</th>\n",
       "      <th>7</th>\n",
       "      <th>8</th>\n",
       "      <th>9</th>\n",
       "      <th>10</th>\n",
       "      <th>11</th>\n",
       "    </tr>\n",
       "  </thead>\n",
       "  <tbody>\n",
       "    <tr>\n",
       "      <th>0</th>\n",
       "      <td>0.006383</td>\n",
       "      <td>0.007796</td>\n",
       "      <td>0.008449</td>\n",
       "      <td>0.009777</td>\n",
       "      <td>0.011263</td>\n",
       "      <td>0.012483</td>\n",
       "      <td>0.014736</td>\n",
       "      <td>0.017451</td>\n",
       "      <td>0.021221</td>\n",
       "      <td>0.027563</td>\n",
       "      <td>0.034851</td>\n",
       "      <td>0.037926</td>\n",
       "    </tr>\n",
       "    <tr>\n",
       "      <th>1</th>\n",
       "      <td>0.007501</td>\n",
       "      <td>0.008786</td>\n",
       "      <td>0.009424</td>\n",
       "      <td>0.010595</td>\n",
       "      <td>0.012147</td>\n",
       "      <td>0.013845</td>\n",
       "      <td>0.016118</td>\n",
       "      <td>0.018703</td>\n",
       "      <td>0.024015</td>\n",
       "      <td>0.029533</td>\n",
       "      <td>0.040670</td>\n",
       "      <td>0.046477</td>\n",
       "    </tr>\n",
       "    <tr>\n",
       "      <th>2</th>\n",
       "      <td>0.008880</td>\n",
       "      <td>0.009777</td>\n",
       "      <td>0.010013</td>\n",
       "      <td>0.011105</td>\n",
       "      <td>0.012692</td>\n",
       "      <td>0.014291</td>\n",
       "      <td>0.016856</td>\n",
       "      <td>0.019351</td>\n",
       "      <td>0.024122</td>\n",
       "      <td>0.028552</td>\n",
       "      <td>0.054911</td>\n",
       "      <td>0.064426</td>\n",
       "    </tr>\n",
       "    <tr>\n",
       "      <th>3</th>\n",
       "      <td>0.009411</td>\n",
       "      <td>0.010827</td>\n",
       "      <td>0.010165</td>\n",
       "      <td>0.011324</td>\n",
       "      <td>0.012626</td>\n",
       "      <td>0.014846</td>\n",
       "      <td>0.016895</td>\n",
       "      <td>0.019971</td>\n",
       "      <td>0.023851</td>\n",
       "      <td>0.035113</td>\n",
       "      <td>0.108051</td>\n",
       "      <td>0.257454</td>\n",
       "    </tr>\n",
       "    <tr>\n",
       "      <th>4</th>\n",
       "      <td>0.009411</td>\n",
       "      <td>0.010827</td>\n",
       "      <td>0.010165</td>\n",
       "      <td>0.011324</td>\n",
       "      <td>0.012626</td>\n",
       "      <td>0.014846</td>\n",
       "      <td>0.016895</td>\n",
       "      <td>0.019971</td>\n",
       "      <td>0.023851</td>\n",
       "      <td>0.035113</td>\n",
       "      <td>0.108051</td>\n",
       "      <td>0.257454</td>\n",
       "    </tr>\n",
       "    <tr>\n",
       "      <th>5</th>\n",
       "      <td>0.008880</td>\n",
       "      <td>0.009777</td>\n",
       "      <td>0.010013</td>\n",
       "      <td>0.011105</td>\n",
       "      <td>0.012692</td>\n",
       "      <td>0.014291</td>\n",
       "      <td>0.016856</td>\n",
       "      <td>0.019351</td>\n",
       "      <td>0.024122</td>\n",
       "      <td>0.028552</td>\n",
       "      <td>0.054911</td>\n",
       "      <td>0.064426</td>\n",
       "    </tr>\n",
       "    <tr>\n",
       "      <th>6</th>\n",
       "      <td>0.007501</td>\n",
       "      <td>0.008786</td>\n",
       "      <td>0.009424</td>\n",
       "      <td>0.010595</td>\n",
       "      <td>0.012147</td>\n",
       "      <td>0.013845</td>\n",
       "      <td>0.016118</td>\n",
       "      <td>0.018703</td>\n",
       "      <td>0.024015</td>\n",
       "      <td>0.029533</td>\n",
       "      <td>0.040670</td>\n",
       "      <td>0.046477</td>\n",
       "    </tr>\n",
       "    <tr>\n",
       "      <th>7</th>\n",
       "      <td>0.006383</td>\n",
       "      <td>0.007796</td>\n",
       "      <td>0.008449</td>\n",
       "      <td>0.009777</td>\n",
       "      <td>0.011263</td>\n",
       "      <td>0.012483</td>\n",
       "      <td>0.014736</td>\n",
       "      <td>0.017451</td>\n",
       "      <td>0.021221</td>\n",
       "      <td>0.027563</td>\n",
       "      <td>0.034851</td>\n",
       "      <td>0.037926</td>\n",
       "    </tr>\n",
       "  </tbody>\n",
       "</table>\n",
       "</div>"
      ],
      "text/plain": [
       "         0         1         2         3         4         5         6   \\\n",
       "0  0.006383  0.007796  0.008449  0.009777  0.011263  0.012483  0.014736   \n",
       "1  0.007501  0.008786  0.009424  0.010595  0.012147  0.013845  0.016118   \n",
       "2  0.008880  0.009777  0.010013  0.011105  0.012692  0.014291  0.016856   \n",
       "3  0.009411  0.010827  0.010165  0.011324  0.012626  0.014846  0.016895   \n",
       "4  0.009411  0.010827  0.010165  0.011324  0.012626  0.014846  0.016895   \n",
       "5  0.008880  0.009777  0.010013  0.011105  0.012692  0.014291  0.016856   \n",
       "6  0.007501  0.008786  0.009424  0.010595  0.012147  0.013845  0.016118   \n",
       "7  0.006383  0.007796  0.008449  0.009777  0.011263  0.012483  0.014736   \n",
       "\n",
       "         7         8         9         10        11  \n",
       "0  0.017451  0.021221  0.027563  0.034851  0.037926  \n",
       "1  0.018703  0.024015  0.029533  0.040670  0.046477  \n",
       "2  0.019351  0.024122  0.028552  0.054911  0.064426  \n",
       "3  0.019971  0.023851  0.035113  0.108051  0.257454  \n",
       "4  0.019971  0.023851  0.035113  0.108051  0.257454  \n",
       "5  0.019351  0.024122  0.028552  0.054911  0.064426  \n",
       "6  0.018703  0.024015  0.029533  0.040670  0.046477  \n",
       "7  0.017451  0.021221  0.027563  0.034851  0.037926  "
      ]
     },
     "execution_count": 6,
     "metadata": {},
     "output_type": "execute_result"
    }
   ],
   "source": [
    "xt_df = pd.read_csv('xT_metric.csv', header=None)\n",
    "xt_df"
   ]
  },
  {
   "cell_type": "code",
   "execution_count": 7,
   "id": "5793d801-9b8a-466b-8bd7-a4f4348f235d",
   "metadata": {},
   "outputs": [],
   "source": [
    "xT = np.array(xt_df)"
   ]
  },
  {
   "cell_type": "code",
   "execution_count": 8,
   "id": "54ec2752-baa1-4443-8d84-8f29750a35a4",
   "metadata": {},
   "outputs": [],
   "source": [
    "xT_rows, xT_cols = xT.shape"
   ]
  },
  {
   "cell_type": "code",
   "execution_count": 9,
   "id": "f025e3ac-10f6-4d92-ab8b-cad8f93b6c21",
   "metadata": {},
   "outputs": [],
   "source": [
    "passes['x1_bin'] = pd.cut(passes.loc[:, 'x'], bins=xT_cols, labels=False)\n",
    "passes['y1_bin'] = pd.cut(passes.loc[:, 'y'], bins=xT_rows, labels=False)\n",
    "passes['x2_bin'] = pd.cut(passes.loc[:, 'end_x'], bins=xT_cols, labels=False)\n",
    "passes['y2_bin'] = pd.cut(passes.loc[:, 'end_y'], bins=xT_rows, labels=False)\n",
    "\n",
    "passes['start_zone_value'] = passes[['x1_bin', 'y1_bin']].apply(lambda x: xT[x[1]][x[0]], axis=1)\n",
    "passes['end_zone_value'] = passes[['x2_bin', 'y2_bin']].apply(lambda x: xT[x[1]][x[0]], axis=1)\n",
    "passes['xT%'] = round((passes.loc[:, 'end_zone_value'] / passes.loc[:, 'start_zone_value'] - 1), 2)"
   ]
  },
  {
   "cell_type": "code",
   "execution_count": 10,
   "id": "72d39fba-a011-4a3b-9bf2-97e291a8cd23",
   "metadata": {
    "tags": []
   },
   "outputs": [
    {
     "data": {
      "text/html": [
       "<div>\n",
       "<style scoped>\n",
       "    .dataframe tbody tr th:only-of-type {\n",
       "        vertical-align: middle;\n",
       "    }\n",
       "\n",
       "    .dataframe tbody tr th {\n",
       "        vertical-align: top;\n",
       "    }\n",
       "\n",
       "    .dataframe thead th {\n",
       "        text-align: right;\n",
       "    }\n",
       "</style>\n",
       "<table border=\"1\" class=\"dataframe\">\n",
       "  <thead>\n",
       "    <tr style=\"text-align: right;\">\n",
       "      <th></th>\n",
       "      <th>ball_receipt_outcome</th>\n",
       "      <th>ball_recovery_recovery_failure</th>\n",
       "      <th>block_deflection</th>\n",
       "      <th>block_offensive</th>\n",
       "      <th>carry_end_location</th>\n",
       "      <th>clearance_aerial_won</th>\n",
       "      <th>clearance_body_part</th>\n",
       "      <th>clearance_head</th>\n",
       "      <th>clearance_left_foot</th>\n",
       "      <th>clearance_other</th>\n",
       "      <th>...</th>\n",
       "      <th>y</th>\n",
       "      <th>end_x</th>\n",
       "      <th>end_y</th>\n",
       "      <th>x1_bin</th>\n",
       "      <th>y1_bin</th>\n",
       "      <th>x2_bin</th>\n",
       "      <th>y2_bin</th>\n",
       "      <th>start_zone_value</th>\n",
       "      <th>end_zone_value</th>\n",
       "      <th>xT%</th>\n",
       "    </tr>\n",
       "  </thead>\n",
       "  <tbody>\n",
       "    <tr>\n",
       "      <th>277</th>\n",
       "      <td>NaN</td>\n",
       "      <td>NaN</td>\n",
       "      <td>NaN</td>\n",
       "      <td>NaN</td>\n",
       "      <td>NaN</td>\n",
       "      <td>NaN</td>\n",
       "      <td>NaN</td>\n",
       "      <td>NaN</td>\n",
       "      <td>NaN</td>\n",
       "      <td>NaN</td>\n",
       "      <td>...</td>\n",
       "      <td>19.0</td>\n",
       "      <td>30.2</td>\n",
       "      <td>32.7</td>\n",
       "      <td>3</td>\n",
       "      <td>1</td>\n",
       "      <td>3</td>\n",
       "      <td>3</td>\n",
       "      <td>0.010595</td>\n",
       "      <td>0.011324</td>\n",
       "      <td>0.07</td>\n",
       "    </tr>\n",
       "  </tbody>\n",
       "</table>\n",
       "<p>1 rows × 100 columns</p>\n",
       "</div>"
      ],
      "text/plain": [
       "    ball_receipt_outcome ball_recovery_recovery_failure block_deflection  \\\n",
       "277                  NaN                            NaN              NaN   \n",
       "\n",
       "    block_offensive carry_end_location clearance_aerial_won  \\\n",
       "277             NaN                NaN                  NaN   \n",
       "\n",
       "    clearance_body_part clearance_head clearance_left_foot clearance_other  \\\n",
       "277                 NaN            NaN                 NaN             NaN   \n",
       "\n",
       "     ...     y end_x end_y x1_bin y1_bin x2_bin y2_bin  start_zone_value  \\\n",
       "277  ...  19.0  30.2  32.7      3      1      3      3          0.010595   \n",
       "\n",
       "    end_zone_value   xT%  \n",
       "277       0.011324  0.07  \n",
       "\n",
       "[1 rows x 100 columns]"
      ]
     },
     "execution_count": 10,
     "metadata": {},
     "output_type": "execute_result"
    }
   ],
   "source": [
    "passes.sample()"
   ]
  },
  {
   "cell_type": "code",
   "execution_count": 11,
   "id": "aee9296d-a62f-4129-a26e-b337b66d976f",
   "metadata": {},
   "outputs": [
    {
     "data": {
      "text/plain": [
       "['Out', 'Incomplete', 'Unknown', 'Pass Offside']"
      ]
     },
     "execution_count": 11,
     "metadata": {},
     "output_type": "execute_result"
    }
   ],
   "source": [
    "l = list(passes['pass_outcome'].unique())\n",
    "l = l[1:]\n",
    "l"
   ]
  },
  {
   "cell_type": "code",
   "execution_count": 12,
   "id": "b2a45593-8812-4fb3-9da2-95d1530f7612",
   "metadata": {},
   "outputs": [],
   "source": [
    "passes = passes[~passes['pass_outcome'].isin(l)]"
   ]
  },
  {
   "cell_type": "code",
   "execution_count": 13,
   "id": "6308a7e4-f801-4b78-ae2e-d455a8c0f920",
   "metadata": {},
   "outputs": [],
   "source": [
    "passes = passes[passes['play_pattern']=='Regular Play']"
   ]
  },
  {
   "cell_type": "code",
   "execution_count": 14,
   "id": "033a4283-b432-41a0-8e06-838a74149975",
   "metadata": {},
   "outputs": [
    {
     "data": {
      "text/plain": [
       "array(['Barcelona', 'Huesca'], dtype=object)"
      ]
     },
     "execution_count": 14,
     "metadata": {},
     "output_type": "execute_result"
    }
   ],
   "source": [
    "passes.team.unique()"
   ]
  },
  {
   "cell_type": "markdown",
   "id": "9b2c2ac1-fcc1-4ad2-80b0-df84936fccd0",
   "metadata": {},
   "source": [
    "## Gráfico Interativo"
   ]
  },
  {
   "cell_type": "code",
   "execution_count": 15,
   "id": "b1a92ffc-c632-4524-bb0d-473b86a1e86c",
   "metadata": {
    "tags": []
   },
   "outputs": [],
   "source": [
    "def plot_interact(team, minute):\n",
    "    passes_final = passes[(passes['team']==team) & (passes['minute']<=minute) & (passes['xT%']>=passes['xT%'].max()*0.1)]\n",
    "    pitch = Pitch(pitch_type='statsbomb', pitch_color='#22312b', line_color='#c7d5cc', goal_type='box')\n",
    "    fig, ax = pitch.draw(figsize=(10, 7))\n",
    "    pitch.scatter(passes_final.x, passes_final.y, c='r', cmap=['Blues'], ax=ax, s=100);\n",
    "    pitch.arrows(passes_final.x, passes_final.y, passes_final.end_x, passes_final.end_y, color='white', width=2, ax=ax)\n",
    "    ax.set_title(f'Match of {passes.team.unique()[0]} Vs {passes.team.unique()[1]} Passes up to {minute} Minutes', fontsize=20);"
   ]
  },
  {
   "cell_type": "code",
   "execution_count": 16,
   "id": "46eec7d0-b0e4-4b09-8061-dda1254c273c",
   "metadata": {
    "tags": []
   },
   "outputs": [
    {
     "data": {
      "application/vnd.jupyter.widget-view+json": {
       "model_id": "e83843231c9f44509cf4527fb39e682b",
       "version_major": 2,
       "version_minor": 0
      },
      "text/plain": [
       "interactive(children=(Dropdown(description='team', options=('Barcelona', 'Huesca'), value='Barcelona'), Play(v…"
      ]
     },
     "metadata": {},
     "output_type": "display_data"
    }
   ],
   "source": [
    "widgets.interact(plot_interact, team=widgets.Dropdown(options=passes['team'].unique()), \n",
    "                 minute=widgets.Play(min=0, max=passes['minute'].max()), interval=1000);"
   ]
  },
  {
   "cell_type": "code",
   "execution_count": null,
   "id": "d0747b27-c63a-473d-91e5-c31746500715",
   "metadata": {},
   "outputs": [],
   "source": []
  }
 ],
 "metadata": {
  "kernelspec": {
   "display_name": "Python 3 (ipykernel)",
   "language": "python",
   "name": "python3"
  },
  "language_info": {
   "codemirror_mode": {
    "name": "ipython",
    "version": 3
   },
   "file_extension": ".py",
   "mimetype": "text/x-python",
   "name": "python",
   "nbconvert_exporter": "python",
   "pygments_lexer": "ipython3",
   "version": "3.9.13"
  }
 },
 "nbformat": 4,
 "nbformat_minor": 5
}
